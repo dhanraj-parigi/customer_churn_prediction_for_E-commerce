{
 "cells": [
  {
   "cell_type": "code",
   "execution_count": 1,
   "id": "7727d0bf",
   "metadata": {},
   "outputs": [],
   "source": [
    "import pandas as pd\n",
    "import matplotlib.pyplot as plt\n",
    "import seaborn as sns\n",
    "from sklearn.model_selection import train_test_split\n",
    "from sklearn.preprocessing import LabelEncoder\n",
    "from sklearn.linear_model import LogisticRegression\n",
    "from sklearn.tree import DecisionTreeClassifier\n",
    "from sklearn.metrics import classification_report\n",
    "import joblib"
   ]
  },
  {
   "cell_type": "code",
   "execution_count": 2,
   "id": "54e2833a",
   "metadata": {},
   "outputs": [],
   "source": [
    "# Load dataset\n",
    "df = pd.read_csv(\"customer_churn.csv\")\n",
    "\n",
    "\n"
   ]
  },
  {
   "cell_type": "code",
   "execution_count": 3,
   "id": "528950b2",
   "metadata": {},
   "outputs": [
    {
     "name": "stdout",
     "output_type": "stream",
     "text": [
      "   Tenure  WarehouseToHome  NumberOfDeviceRegistered    PreferedOrderCat  \\\n",
      "0    15.0             29.0                         4  Laptop & Accessory   \n",
      "1     7.0             25.0                         4              Mobile   \n",
      "2    27.0             13.0                         3  Laptop & Accessory   \n",
      "3    20.0             25.0                         4             Fashion   \n",
      "4    30.0             15.0                         4              Others   \n",
      "\n",
      "   SatisfactionScore MaritalStatus  NumberOfAddress  Complain  \\\n",
      "0                  3        Single                2         0   \n",
      "1                  1       Married                2         0   \n",
      "2                  1       Married                5         0   \n",
      "3                  3      Divorced                7         0   \n",
      "4                  4        Single                8         0   \n",
      "\n",
      "   DaySinceLastOrder  CashbackAmount  Churn  \n",
      "0                7.0          143.32      0  \n",
      "1                7.0          129.29      0  \n",
      "2                7.0          168.54      0  \n",
      "3                NaN          230.27      0  \n",
      "4                8.0          322.17      0  \n",
      "['Tenure', 'WarehouseToHome', 'NumberOfDeviceRegistered', 'PreferedOrderCat', 'SatisfactionScore', 'MaritalStatus', 'NumberOfAddress', 'Complain', 'DaySinceLastOrder', 'CashbackAmount', 'Churn']\n"
     ]
    }
   ],
   "source": [
    "# Display first few rows and column names\n",
    "print(df.head())\n",
    "print(df.columns.tolist())"
   ]
  },
  {
   "cell_type": "code",
   "execution_count": 4,
   "id": "600162b4",
   "metadata": {},
   "outputs": [],
   "source": [
    "# 3. Handle missing values\n",
    "df.dropna(inplace=True)"
   ]
  },
  {
   "cell_type": "code",
   "execution_count": 5,
   "id": "483231a4",
   "metadata": {},
   "outputs": [],
   "source": [
    "# 4. Encode categorical variables\n",
    "cat_cols = ['PreferedOrderCat', 'MaritalStatus']\n",
    "le = LabelEncoder()\n",
    "for col in cat_cols:\n",
    "    df[col] = le.fit_transform(df[col])\n",
    "\n",
    "# 5. Feature/target split\n",
    "X = df.drop(\"Churn\", axis=1)\n",
    "y = df[\"Churn\"]"
   ]
  },
  {
   "cell_type": "code",
   "execution_count": 6,
   "id": "c34f52de",
   "metadata": {},
   "outputs": [
    {
     "name": "stdout",
     "output_type": "stream",
     "text": [
      "Logistic Regression:\n",
      "               precision    recall  f1-score   support\n",
      "\n",
      "           0       0.90      0.97      0.94       569\n",
      "           1       0.74      0.40      0.52       104\n",
      "\n",
      "    accuracy                           0.89       673\n",
      "   macro avg       0.82      0.69      0.73       673\n",
      "weighted avg       0.87      0.89      0.87       673\n",
      "\n"
     ]
    }
   ],
   "source": [
    "# 6. Train/test split\n",
    "X_train, X_test, y_train, y_test = train_test_split(X, y, test_size=0.2, random_state=42)\n",
    "\n",
    "# 7. Logistic Regression\n",
    "logreg = LogisticRegression(max_iter=1000)\n",
    "logreg.fit(X_train, y_train)\n",
    "print(\"Logistic Regression:\\n\", classification_report(y_test, logreg.predict(X_test)))\n",
    "\n"
   ]
  },
  {
   "cell_type": "code",
   "execution_count": 7,
   "id": "6403c418",
   "metadata": {},
   "outputs": [
    {
     "name": "stdout",
     "output_type": "stream",
     "text": [
      "Decision Tree:\n",
      "               precision    recall  f1-score   support\n",
      "\n",
      "           0       0.93      0.94      0.94       569\n",
      "           1       0.66      0.61      0.63       104\n",
      "\n",
      "    accuracy                           0.89       673\n",
      "   macro avg       0.80      0.77      0.78       673\n",
      "weighted avg       0.89      0.89      0.89       673\n",
      "\n"
     ]
    },
    {
     "data": {
      "text/plain": [
       "['columns.pkl']"
      ]
     },
     "execution_count": 7,
     "metadata": {},
     "output_type": "execute_result"
    }
   ],
   "source": [
    "# 8. Decision Tree\n",
    "tree = DecisionTreeClassifier(max_depth=5)\n",
    "tree.fit(X_train, y_train)\n",
    "print(\"Decision Tree:\\n\", classification_report(y_test, tree.predict(X_test)))\n",
    "\n",
    "# 9. Save models and columns\n",
    "joblib.dump(logreg, \"model_logreg.pkl\")\n",
    "joblib.dump(tree, \"model_tree.pkl\")\n",
    "joblib.dump(X.columns.tolist(), \"columns.pkl\")\n"
   ]
  },
  {
   "cell_type": "code",
   "execution_count": 8,
   "id": "d6d51202",
   "metadata": {},
   "outputs": [
    {
     "data": {
      "image/png": "[encoded data removed]",
      "text/plain": [
       "<Figure size 640x480 with 1 Axes>"
      ]
     },
     "metadata": {},
     "output_type": "display_data"
    }
   ],
   "source": [
    "# See how many customers churned\n",
    "sns.countplot(x='Churn', data=df)\n",
    "plt.title('Churn Count')\n",
    "plt.show()"
   ]
  }
 ],
 "metadata": {
  "kernelspec": {
   "display_name": "Python 3",
   "language": "python",
   "name": "python3"
  },
  "language_info": {
   "codemirror_mode": {
    "name": "ipython",
    "version": 3
   },
   "file_extension": ".py",
   "mimetype": "text/x-python",
   "name": "python",
   "nbconvert_exporter": "python",
   "pygments_lexer": "ipython3",
   "version": "3.12.10"
  }
 },
 "nbformat": 4,
 "nbformat_minor": 5
}
